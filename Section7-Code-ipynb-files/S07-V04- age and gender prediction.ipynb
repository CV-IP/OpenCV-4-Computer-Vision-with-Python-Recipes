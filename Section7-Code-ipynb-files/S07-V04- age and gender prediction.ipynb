{
 "cells": [
  {
   "cell_type": "code",
   "execution_count": null,
   "metadata": {},
   "outputs": [],
   "source": [
    "# Import the modules\n",
    "\n",
    "import cv2\n",
    "import numpy as np\n",
    "import matplotlib.pyplot as plt\n",
    "import imutils"
   ]
  },
  {
   "cell_type": "code",
   "execution_count": null,
   "metadata": {},
   "outputs": [],
   "source": [
    "# Load the models\n",
    "\n",
    "age_model = cv2.dnn.readNetFromCaffe(\n",
    "    '../data/age_gender/age_net_deploy.prototxt',\n",
    "    '../data/age_gender/age_net.caffemodel')\n",
    "\n",
    "gender_model = cv2.dnn.readNetFromCaffe(\n",
    "    '../data/age_gender/gender_net_deploy.prototxt',\n",
    "    '../data/age_gender/gender_net.caffemodel')"
   ]
  },
  {
   "cell_type": "code",
   "execution_count": null,
   "metadata": {},
   "outputs": [],
   "source": [
    "# Load and crop the source image:\n",
    "\n",
    "orig_frame = cv2.imread('../data/face.jpeg')\n",
    "orig_frame = imutils.resize(orig_frame, width=2000)\n",
    "dx = (orig_frame.shape[1]-orig_frame.shape[0]) // 2\n",
    "orig_frame = orig_frame[:,dx:dx+orig_frame.shape[0]]"
   ]
  },
  {
   "cell_type": "code",
   "execution_count": null,
   "metadata": {},
   "outputs": [],
   "source": [
    "# Visualize the image\n",
    "\n",
    "plt.figure(figsize=(6,6))\n",
    "plt.title('original')\n",
    "plt.axis('off')\n",
    "plt.imshow(orig_frame[:,:,[2,1,0]])\n",
    "plt.show()"
   ]
  },
  {
   "cell_type": "code",
   "execution_count": null,
   "metadata": {},
   "outputs": [],
   "source": [
    "# Load the image with mean pixel values and subtract them from the source image:\n",
    "\n",
    "mean_blob = np.load('../data/age_gender/mean.npy')\n",
    "frame = cv2.resize(orig_frame, (256,256)).astype(np.float32)\n",
    "frame -= np.transpose(mean_blob[0], (1,2,0))"
   ]
  },
  {
   "cell_type": "code",
   "execution_count": null,
   "metadata": {},
   "outputs": [],
   "source": [
    "# Set age and gender lists\n",
    "AGE_LIST = ['(8, 12)','(15, 20)', '(25, 32)','(38, 43)','(48, 53)','(60, 100)']\n",
    "GENDER_LIST = ['male','female']"
   ]
  },
  {
   "cell_type": "code",
   "execution_count": null,
   "metadata": {},
   "outputs": [],
   "source": [
    "# Classify gender\n",
    "\n",
    "blob = cv2.dnn.blobFromImage(frame, 1, (256,256))\n",
    "gender_model.setInput(blob)\n",
    "gender_prob = gender_model.forward()\n",
    "gender_id = np.argmax(gender_prob)\n",
    "print('Gender: {} with prob: {}'.format(GENDER_LIST[gender_id],\n",
    "gender_prob[0, gender_id]))"
   ]
  },
  {
   "cell_type": "code",
   "execution_count": null,
   "metadata": {},
   "outputs": [],
   "source": [
    "# Classify age group\n",
    "age_model.setInput(blob)\n",
    "age_prob = age_model.forward()\n",
    "age_id = np.argmax(age_prob)\n",
    "print('Age group: {} with prob: {}'.format(AGE_LIST[age_id],\n",
    "age_prob[0, age_id]))"
   ]
  }
 ],
 "metadata": {
  "kernelspec": {
   "display_name": "PY37",
   "language": "python",
   "name": "py37"
  },
  "language_info": {
   "codemirror_mode": {
    "name": "ipython",
    "version": 3
   },
   "file_extension": ".py",
   "mimetype": "text/x-python",
   "name": "python",
   "nbconvert_exporter": "python",
   "pygments_lexer": "ipython3",
   "version": "3.7.1"
  }
 },
 "nbformat": 4,
 "nbformat_minor": 2
}
